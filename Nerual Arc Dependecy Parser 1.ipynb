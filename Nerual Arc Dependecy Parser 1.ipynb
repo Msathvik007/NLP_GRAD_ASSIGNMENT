{
  "cells": [
    {
      "cell_type": "code",
      "execution_count": 15,
      "metadata": {
        "colab": {
          "base_uri": "https://localhost:8080/"
        },
        "id": "ASOJvLcrnRWs",
        "outputId": "8ba0ef13-62c5-4e1f-f8c7-a5b2f9e8bc94"
      },
      "outputs": [
        {
          "output_type": "stream",
          "name": "stdout",
          "text": [
            "Requirement already satisfied: torchtext in /usr/local/lib/python3.10/dist-packages (0.17.1)\n",
            "Requirement already satisfied: tqdm in /usr/local/lib/python3.10/dist-packages (from torchtext) (4.66.4)\n",
            "Requirement already satisfied: requests in /usr/local/lib/python3.10/dist-packages (from torchtext) (2.31.0)\n",
            "Requirement already satisfied: torch==2.2.1 in /usr/local/lib/python3.10/dist-packages (from torchtext) (2.2.1+cu121)\n",
            "Requirement already satisfied: numpy in /usr/local/lib/python3.10/dist-packages (from torchtext) (1.25.2)\n",
            "Requirement already satisfied: torchdata==0.7.1 in /usr/local/lib/python3.10/dist-packages (from torchtext) (0.7.1)\n",
            "Requirement already satisfied: filelock in /usr/local/lib/python3.10/dist-packages (from torch==2.2.1->torchtext) (3.14.0)\n",
            "Requirement already satisfied: typing-extensions>=4.8.0 in /usr/local/lib/python3.10/dist-packages (from torch==2.2.1->torchtext) (4.11.0)\n",
            "Requirement already satisfied: sympy in /usr/local/lib/python3.10/dist-packages (from torch==2.2.1->torchtext) (1.12)\n",
            "Requirement already satisfied: networkx in /usr/local/lib/python3.10/dist-packages (from torch==2.2.1->torchtext) (3.3)\n",
            "Requirement already satisfied: jinja2 in /usr/local/lib/python3.10/dist-packages (from torch==2.2.1->torchtext) (3.1.4)\n",
            "Requirement already satisfied: fsspec in /usr/local/lib/python3.10/dist-packages (from torch==2.2.1->torchtext) (2023.6.0)\n",
            "Requirement already satisfied: nvidia-cuda-nvrtc-cu12==12.1.105 in /usr/local/lib/python3.10/dist-packages (from torch==2.2.1->torchtext) (12.1.105)\n",
            "Requirement already satisfied: nvidia-cuda-runtime-cu12==12.1.105 in /usr/local/lib/python3.10/dist-packages (from torch==2.2.1->torchtext) (12.1.105)\n",
            "Requirement already satisfied: nvidia-cuda-cupti-cu12==12.1.105 in /usr/local/lib/python3.10/dist-packages (from torch==2.2.1->torchtext) (12.1.105)\n",
            "Requirement already satisfied: nvidia-cudnn-cu12==8.9.2.26 in /usr/local/lib/python3.10/dist-packages (from torch==2.2.1->torchtext) (8.9.2.26)\n",
            "Requirement already satisfied: nvidia-cublas-cu12==12.1.3.1 in /usr/local/lib/python3.10/dist-packages (from torch==2.2.1->torchtext) (12.1.3.1)\n",
            "Requirement already satisfied: nvidia-cufft-cu12==11.0.2.54 in /usr/local/lib/python3.10/dist-packages (from torch==2.2.1->torchtext) (11.0.2.54)\n",
            "Requirement already satisfied: nvidia-curand-cu12==10.3.2.106 in /usr/local/lib/python3.10/dist-packages (from torch==2.2.1->torchtext) (10.3.2.106)\n",
            "Requirement already satisfied: nvidia-cusolver-cu12==11.4.5.107 in /usr/local/lib/python3.10/dist-packages (from torch==2.2.1->torchtext) (11.4.5.107)\n",
            "Requirement already satisfied: nvidia-cusparse-cu12==12.1.0.106 in /usr/local/lib/python3.10/dist-packages (from torch==2.2.1->torchtext) (12.1.0.106)\n",
            "Requirement already satisfied: nvidia-nccl-cu12==2.19.3 in /usr/local/lib/python3.10/dist-packages (from torch==2.2.1->torchtext) (2.19.3)\n",
            "Requirement already satisfied: nvidia-nvtx-cu12==12.1.105 in /usr/local/lib/python3.10/dist-packages (from torch==2.2.1->torchtext) (12.1.105)\n",
            "Requirement already satisfied: triton==2.2.0 in /usr/local/lib/python3.10/dist-packages (from torch==2.2.1->torchtext) (2.2.0)\n",
            "Requirement already satisfied: urllib3>=1.25 in /usr/local/lib/python3.10/dist-packages (from torchdata==0.7.1->torchtext) (2.0.7)\n",
            "Requirement already satisfied: nvidia-nvjitlink-cu12 in /usr/local/lib/python3.10/dist-packages (from nvidia-cusolver-cu12==11.4.5.107->torch==2.2.1->torchtext) (12.4.127)\n",
            "Requirement already satisfied: charset-normalizer<4,>=2 in /usr/local/lib/python3.10/dist-packages (from requests->torchtext) (3.3.2)\n",
            "Requirement already satisfied: idna<4,>=2.5 in /usr/local/lib/python3.10/dist-packages (from requests->torchtext) (3.7)\n",
            "Requirement already satisfied: certifi>=2017.4.17 in /usr/local/lib/python3.10/dist-packages (from requests->torchtext) (2024.2.2)\n",
            "Requirement already satisfied: MarkupSafe>=2.0 in /usr/local/lib/python3.10/dist-packages (from jinja2->torch==2.2.1->torchtext) (2.1.5)\n",
            "Requirement already satisfied: mpmath>=0.19 in /usr/local/lib/python3.10/dist-packages (from sympy->torch==2.2.1->torchtext) (1.3.0)\n"
          ]
        }
      ],
      "source": [
        "pip install torchtext"
      ]
    },
    {
      "cell_type": "code",
      "source": [
        "import torch\n",
        "import torch.optim as optim\n",
        "import torch.nn as nn\n",
        "from torch.utils.data import Dataset"
      ],
      "metadata": {
        "id": "fNknoV40Q4zT"
      },
      "execution_count": 16,
      "outputs": []
    },
    {
      "cell_type": "code",
      "execution_count": 17,
      "metadata": {
        "id": "QdYM2MNotOVs"
      },
      "outputs": [],
      "source": [
        "from torch.utils.data import Dataset\n",
        "class DependencyParsingDataset(Dataset):\n",
        "    def __init__(self, file_path, pos_vocab, dep_vocab):\n",
        "        self.pos_vocab = pos_vocab\n",
        "        self.dep_vocab = dep_vocab\n",
        "        self.data = []\n",
        "        with open(file_path, 'r') as file:\n",
        "            for line in file:\n",
        "                if line.strip() and not line.startswith(\"#\"):  # Skip empty lines and comments\n",
        "                    parts = line.strip().split()\n",
        "                    if len(parts) > 7:  # Ensure there are enough parts\n",
        "                        word_index = int(parts[0])  # ID of the word\n",
        "                        pos_tag = self.pos_vocab[parts[3]]  # Convert POS tag to index\n",
        "                        head_index = int(parts[6])  # ID of the head word\n",
        "                        dep_rel = self.dep_vocab[parts[7]]  # Convert dependency label to index\n",
        "                        self.data.append((word_index, pos_tag, head_index, dep_rel))\n",
        "\n",
        "    def __len__(self):\n",
        "        return len(self.data)\n",
        "\n",
        "    def __getitem__(self, idx):\n",
        "      word_index, pos_index, head_index, deprel_index = self.data[idx]\n",
        "      return (torch.tensor([word_index], dtype=torch.long).unsqueeze(0),  # Adding sequence length dimension\n",
        "            torch.tensor([pos_index], dtype=torch.long).unsqueeze(0),\n",
        "            torch.tensor([head_index], dtype=torch.long).unsqueeze(0),\n",
        "            torch.tensor([deprel_index], dtype=torch.long).unsqueeze(0))\n",
        "\n"
      ]
    },
    {
      "cell_type": "code",
      "execution_count": 18,
      "metadata": {
        "id": "bo4ZPd-NFER8"
      },
      "outputs": [],
      "source": [
        "def build_vocab(file_path, column_index):\n",
        "    vocab = {}\n",
        "    with open(file_path, 'r') as file:\n",
        "        for line in file:\n",
        "            if line.strip() and not line.startswith(\"#\"):\n",
        "                parts = line.strip().split()\n",
        "                if parts[column_index] not in vocab:\n",
        "                    vocab[parts[column_index]] = len(vocab)\n",
        "    return vocab\n"
      ]
    },
    {
      "cell_type": "code",
      "execution_count": 19,
      "metadata": {
        "id": "1xJ8slOJvx2f"
      },
      "outputs": [],
      "source": [
        "import torch.nn as nn\n",
        "\n",
        "class BiLSTMDependencyParser(nn.Module):\n",
        "    def __init__(self, word_vocab_size, pos_vocab_size, dep_vocab_size, embedding_dim, hidden_dim):\n",
        "        super().__init__()\n",
        "        self.word_embeddings = nn.Embedding(word_vocab_size, embedding_dim)\n",
        "        self.pos_embeddings = nn.Embedding(pos_vocab_size, embedding_dim)\n",
        "        self.lstm = nn.LSTM(embedding_dim * 2, hidden_dim, bidirectional=True)\n",
        "        self.head_predictor = nn.Linear(hidden_dim * 2, 1)\n",
        "        self.dep_predictor = nn.Linear(hidden_dim * 2, dep_vocab_size)\n",
        "\n",
        "\n",
        "\n",
        "\n",
        "    def forward(self, words, pos):\n",
        "      # Generate embeddings\n",
        "      word_embeds = self.word_embeddings(words)  # [batch_size, embedding_dim]\n",
        "      pos_embeds = self.pos_embeddings(pos)      # [batch_size, embedding_dim]\n",
        "      if word_embeds.dim() == 2:\n",
        "        word_embeds = word_embeds.unsqueeze(1)  # Add sequence length dimension\n",
        "      if pos_embeds.dim() == 2:\n",
        "        pos_embeds = pos_embeds.unsqueeze(1)\n",
        "      # Concatenate embeddings along the feature dimension (last dimension)\n",
        "      try:\n",
        "        embeddings = torch.cat([word_embeds, pos_embeds], dim=2)\n",
        "      except Exception as e:\n",
        "        print(\"Error during concatenation:\", e)\n",
        "        return None, None  # Early exit on error\n",
        "      # LSTM and predictors\n",
        "      lstm_out, _ = self.lstm(embeddings)\n",
        "      head_logits = self.head_predictor(lstm_out.squeeze(1))\n",
        "      dep_logits = self.dep_predictor(lstm_out.squeeze(1))\n",
        "      return head_logits, dep_logits\n"
      ]
    },
    {
      "cell_type": "code",
      "source": [
        "from torch.utils.data import DataLoader\n",
        "\n",
        "# Assuming the dataset and vocab building setup is already provided\n",
        "pos_vocab = build_vocab('train.conll', 3)\n",
        "dep_vocab = build_vocab('train.conll', 7)\n",
        "train_dataset = DependencyParsingDataset('train.conll', pos_vocab, dep_vocab)\n",
        "train_loader = DataLoader(train_dataset, batch_size=32, shuffle=True)"
      ],
      "metadata": {
        "id": "B9akorJEj129"
      },
      "execution_count": 23,
      "outputs": []
    },
    {
      "cell_type": "code",
      "execution_count": 24,
      "metadata": {
        "id": "ryhFchMYyUci"
      },
      "outputs": [],
      "source": [
        "import torch\n",
        "import torch.optim as optim\n",
        "import torch.nn as nn\n",
        "\n",
        "# Assume these are the sizes of your vocabularies\n",
        "word_vocab_size = 10000\n",
        "pos_vocab_size = 50\n",
        "dep_vocab_size = 45\n",
        "embedding_dim = 100\n",
        "hidden_dim = 256\n",
        "\n",
        "device = torch.device(\"cuda\" if torch.cuda.is_available() else \"cpu\")\n",
        "model = BiLSTMDependencyParser(word_vocab_size, pos_vocab_size, dep_vocab_size, embedding_dim, hidden_dim)\n",
        "model.to(device)\n",
        "\n",
        "# Using Mean Squared Error Loss for head prediction and CrossEntropyLoss for dependency prediction\n",
        "head_loss_function = nn.MSELoss()\n",
        "dep_loss_function = nn.CrossEntropyLoss()\n",
        "\n",
        "# Optimizer\n",
        "optimizer = optim.Adam(model.parameters(), lr=0.001)\n"
      ]
    },
    {
      "cell_type": "code",
      "execution_count": 25,
      "metadata": {
        "colab": {
          "base_uri": "https://localhost:8080/"
        },
        "id": "9smD-LPRzOEA",
        "outputId": "b4ff18a2-0801-408d-ac40-45a565ad9696"
      },
      "outputs": [
        {
          "output_type": "stream",
          "name": "stderr",
          "text": [
            "/usr/local/lib/python3.10/dist-packages/torch/nn/modules/loss.py:535: UserWarning: Using a target size (torch.Size([12, 1])) that is different to the input size (torch.Size([12])). This will likely lead to incorrect results due to broadcasting. Please ensure they have the same size.\n",
            "  return F.mse_loss(input, target, reduction=self.reduction)\n"
          ]
        },
        {
          "output_type": "stream",
          "name": "stdout",
          "text": [
            "Epoch 1: Train Loss = 111.6825\n",
            "Epoch 2: Train Loss = 110.5491\n",
            "Epoch 3: Train Loss = 110.3822\n",
            "Epoch 4: Train Loss = 110.2684\n",
            "Epoch 5: Train Loss = 110.2657\n"
          ]
        }
      ],
      "source": [
        "def train(model, iterator, optimizer, head_loss_function, dep_loss_function, device):\n",
        "    model.train()\n",
        "    total_loss = 0\n",
        "\n",
        "    for batch in iterator:\n",
        "        # Ensure batch is a tuple of tensors\n",
        "        words, pos, heads, deprels = batch\n",
        "        words = words.to(device).squeeze(1)  # Adjust dimensions if necessary\n",
        "        pos = pos.to(device).squeeze(1)\n",
        "        heads = heads.to(device).squeeze(1)\n",
        "        deprels = deprels.to(device).squeeze(1)\n",
        "\n",
        "        optimizer.zero_grad()\n",
        "\n",
        "        head_logits, dep_logits = model(words, pos)\n",
        "\n",
        "        # Assuming head_logits and dep_logits are correctly shaped\n",
        "        head_loss = head_loss_function(head_logits.squeeze(), heads.float())  # Adjust loss computation as needed\n",
        "        dep_loss = dep_loss_function(dep_logits.view(-1, dep_vocab_size), deprels.view(-1))\n",
        "\n",
        "        loss = head_loss + dep_loss\n",
        "        loss.backward()\n",
        "        optimizer.step()\n",
        "\n",
        "        total_loss += loss.item()\n",
        "\n",
        "    return total_loss / len(iterator)\n",
        "# Run Training\n",
        "num_epochs = 5\n",
        "for epoch in range(num_epochs):\n",
        "    train_loss = train(model, train_loader, optimizer, head_loss_function, dep_loss_function, device)\n",
        "    print(f'Epoch {epoch+1}: Train Loss = {train_loss:.4f}')"
      ]
    },
    {
      "cell_type": "code",
      "execution_count": 26,
      "metadata": {
        "id": "WyDrPsDdaBNp"
      },
      "outputs": [],
      "source": [
        "def evaluate(model, iterator, head_loss_function, dep_loss_function, device):\n",
        "    model.eval()  # Set the model to evaluation mode\n",
        "    total_head_loss = 0\n",
        "    total_dep_loss = 0\n",
        "    correct_heads = 0\n",
        "    correct_labels = 0\n",
        "    total_tokens = 0\n",
        "\n",
        "    with torch.no_grad():  # No gradients needed\n",
        "        for batch in iterator:\n",
        "            words, pos, heads, deprels = batch\n",
        "            words = words.to(device).squeeze()\n",
        "            pos = pos.to(device).squeeze()\n",
        "            heads = heads.to(device).squeeze()\n",
        "            deprels = deprels.to(device).squeeze()\n",
        "\n",
        "            head_logits, dep_logits = model(words, pos)\n",
        "\n",
        "            head_loss = head_loss_function(head_logits.squeeze(), heads.float())\n",
        "            dep_loss = dep_loss_function(dep_logits.view(-1, dep_logits.size(-1)), deprels)\n",
        "\n",
        "            total_head_loss += head_loss.item()\n",
        "            total_dep_loss += dep_loss.item()\n",
        "\n",
        "            # Convert logits to predictions\n",
        "            head_preds = head_logits.round().int()  # Assuming head_logits are regression outputs\n",
        "            dep_preds = dep_logits.argmax(dim=1, keepdim=True).squeeze()\n",
        "\n",
        "            # Calculate correct predictions for UAS and LAS\n",
        "            correct_heads += (head_preds == heads).sum().item()\n",
        "            correct_labels += ((head_preds == heads) & (dep_preds == deprels)).sum().item()\n",
        "            total_tokens += words.size(0)\n",
        "\n",
        "    uas = correct_heads / total_tokens\n",
        "    las = correct_labels / total_tokens\n",
        "    return total_head_loss / len(iterator), total_dep_loss / len(iterator), uas, las\n"
      ]
    },
    {
      "cell_type": "code",
      "execution_count": 28,
      "metadata": {
        "id": "Q_eMDy-GadLi"
      },
      "outputs": [],
      "source": [
        "valid_dataset = DependencyParsingDataset('test.conll', pos_vocab, dep_vocab)\n",
        "valid_loader = DataLoader(valid_dataset, batch_size=32, shuffle=False)\n",
        "dev_dataset = DependencyParsingDataset('dev.conll', pos_vocab, dep_vocab)\n",
        "dev_loader = DataLoader(dev_dataset, batch_size=32, shuffle=False)"
      ]
    },
    {
      "cell_type": "code",
      "execution_count": 29,
      "metadata": {
        "colab": {
          "base_uri": "https://localhost:8080/"
        },
        "id": "kGQ7X_owann7",
        "outputId": "fa02f899-3818-4bdb-8ea3-79dd85d09e23"
      },
      "outputs": [
        {
          "output_type": "stream",
          "name": "stdout",
          "text": [
            "Validation Head Loss: 81.5177\n",
            "Validation Dependency Loss: 1.1046\n",
            "Validation UAS: 1.2268\n",
            "Validation LAS: 0.8070\n"
          ]
        }
      ],
      "source": [
        "valid_head_loss, valid_dep_loss, valid_uas, valid_las = evaluate(model, valid_loader, head_loss_function, dep_loss_function, device)\n",
        "print(f'Validation Head Loss: {valid_head_loss:.4f}')\n",
        "print(f'Validation Dependency Loss: {valid_dep_loss:.4f}')\n",
        "print(f'Validation UAS: {valid_uas:.4f}')\n",
        "print(f'Validation LAS: {valid_las:.4f}')\n",
        "\n"
      ]
    },
    {
      "cell_type": "code",
      "source": [
        "dev_head_loss, dev_dep_loss, dev_uas, dev_las = evaluate(model, dev_loader, head_loss_function, dep_loss_function, device)\n",
        "print(f'Validation Head Loss: {dev_head_loss:.4f}')\n",
        "print(f'Validation Dependency Loss: {dev_dep_loss:.4f}')\n",
        "print(f'Validation UAS: {dev_uas:.4f}')\n",
        "print(f'Validation LAS: {dev_las:.4f}')"
      ],
      "metadata": {
        "colab": {
          "base_uri": "https://localhost:8080/"
        },
        "id": "HcQHkBTFhhGi",
        "outputId": "99874641-37bc-4fb2-bf7f-82fb440e174a"
      },
      "execution_count": 30,
      "outputs": [
        {
          "output_type": "stream",
          "name": "stdout",
          "text": [
            "Validation Head Loss: 87.1915\n",
            "Validation Dependency Loss: 1.1262\n",
            "Validation UAS: 1.1953\n",
            "Validation LAS: 0.7773\n"
          ]
        }
      ]
    },
    {
      "cell_type": "code",
      "source": [],
      "metadata": {
        "id": "pMitKRjscllZ"
      },
      "execution_count": 15,
      "outputs": []
    }
  ],
  "metadata": {
    "colab": {
      "provenance": [],
      "gpuType": "T4"
    },
    "kernelspec": {
      "display_name": "Python 3",
      "name": "python3"
    },
    "language_info": {
      "name": "python"
    },
    "accelerator": "GPU"
  },
  "nbformat": 4,
  "nbformat_minor": 0
}